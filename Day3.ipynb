{
  "nbformat": 4,
  "nbformat_minor": 0,
  "metadata": {
    "colab": {
      "provenance": []
    },
    "kernelspec": {
      "name": "python3",
      "display_name": "Python 3"
    },
    "language_info": {
      "name": "python"
    }
  },
  "cells": [
    {
      "cell_type": "code",
      "execution_count": null,
      "metadata": {
        "id": "gBwZit6kY0j3"
      },
      "outputs": [],
      "source": []
    },
    {
      "cell_type": "markdown",
      "source": [
        "**Day 3 of Day 100**"
      ],
      "metadata": {
        "id": "dNzjz-ZwmeQn"
      }
    },
    {
      "cell_type": "markdown",
      "source": [
        "Given an array of integers nums and an integer target, return indices of the two numbers such that they add up to target.\n",
        "\n",
        "You may assume that each input would have exactly one solution, and you may not use the same element twice."
      ],
      "metadata": {
        "id": "TVYgtmKJd3vp"
      }
    },
    {
      "cell_type": "code",
      "source": [
        "def twoSums(num, target):\n",
        "  for i in range(len(num)):\n",
        "    for j in range(i+1,len(num)):\n",
        "      if num[i] + num[j] == target:\n",
        "        return [i,j]\n",
        "  return -1\n",
        "\n",
        "num = [2,3,4]\n",
        "target = 5\n",
        "twoSums(num, target)"
      ],
      "metadata": {
        "colab": {
          "base_uri": "https://localhost:8080/"
        },
        "id": "8zblh6hYcXz-",
        "outputId": "cdfb4fd9-5210-4732-f3b9-baaeffc6fc91"
      },
      "execution_count": 17,
      "outputs": [
        {
          "output_type": "execute_result",
          "data": {
            "text/plain": [
              "[0, 1]"
            ]
          },
          "metadata": {},
          "execution_count": 17
        }
      ]
    },
    {
      "cell_type": "code",
      "source": [],
      "metadata": {
        "id": "5sZN2X_Tg9jL"
      },
      "execution_count": null,
      "outputs": []
    }
  ]
}
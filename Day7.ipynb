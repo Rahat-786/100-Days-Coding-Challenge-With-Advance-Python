{
  "nbformat": 4,
  "nbformat_minor": 0,
  "metadata": {
    "colab": {
      "provenance": []
    },
    "kernelspec": {
      "name": "python3",
      "display_name": "Python 3"
    },
    "language_info": {
      "name": "python"
    }
  },
  "cells": [
    {
      "cell_type": "code",
      "execution_count": null,
      "metadata": {
        "id": "oH1-1sfZVOYH"
      },
      "outputs": [],
      "source": []
    },
    {
      "cell_type": "markdown",
      "source": [
        "**You're given the heads of the two sorted list list1 and list2. Merge the two lists into one sorted list. The list should be made by splicing up together the nodes of the first two lists.**\n",
        "**Return the head of the merged linked list.**"
      ],
      "metadata": {
        "id": "RJtEPv91VXp3"
      }
    },
    {
      "cell_type": "code",
      "source": [
        "class Solution(object):\n",
        "    def mergeTwoLists(self, list1, list2):\n",
        "        dummy = temp = ListNode(0)\n",
        "        while list1 != None and list2 != None:\n",
        "\n",
        "            if list1.val < list2.val:\n",
        "                temp.next = list1\n",
        "                list1 = list1.next\n",
        "\n",
        "            else:\n",
        "                temp.next = list2\n",
        "                list2 = list2.next\n",
        "\n",
        "            temp = temp.next\n",
        "        temp.next = list1 or list2\n",
        "        return dummy.next\n"
      ],
      "metadata": {
        "id": "Vkol4BtXVwdw"
      },
      "execution_count": null,
      "outputs": []
    }
  ]
}
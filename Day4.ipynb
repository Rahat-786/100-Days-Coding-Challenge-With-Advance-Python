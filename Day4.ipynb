{
  "nbformat": 4,
  "nbformat_minor": 0,
  "metadata": {
    "colab": {
      "provenance": []
    },
    "kernelspec": {
      "name": "python3",
      "display_name": "Python 3"
    },
    "language_info": {
      "name": "python"
    }
  },
  "cells": [
    {
      "cell_type": "markdown",
      "source": [
        "**Dat 4 of Day 100**"
      ],
      "metadata": {
        "id": "CGOEOuqInr4s"
      }
    },
    {
      "cell_type": "markdown",
      "source": [
        "Given an integer x, return true if x is a\n",
        "palindrome\n",
        ", and false otherwise."
      ],
      "metadata": {
        "id": "CbOHA-ldoyaD"
      }
    },
    {
      "cell_type": "code",
      "source": [
        "def isPalindrome(x):\n",
        "  if x < 0:\n",
        "    return False\n",
        "\n",
        "  x_str = str(x)\n",
        "  reverse_str = x_str[::-1]\n",
        "\n",
        "  return x_str == reverse_str\n",
        "\n",
        "x = -121\n",
        "isPalindrome(x)"
      ],
      "metadata": {
        "colab": {
          "base_uri": "https://localhost:8080/"
        },
        "id": "exFTBc9Oo0PU",
        "outputId": "95f35fa4-c485-43a0-d74e-a7523aa4dc45"
      },
      "execution_count": 8,
      "outputs": [
        {
          "output_type": "execute_result",
          "data": {
            "text/plain": [
              "False"
            ]
          },
          "metadata": {},
          "execution_count": 8
        }
      ]
    },
    {
      "cell_type": "code",
      "source": [],
      "metadata": {
        "id": "rspOZ-uxs9Qn"
      },
      "execution_count": null,
      "outputs": []
    }
  ]
}
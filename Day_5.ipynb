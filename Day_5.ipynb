{
  "nbformat": 4,
  "nbformat_minor": 0,
  "metadata": {
    "colab": {
      "provenance": []
    },
    "kernelspec": {
      "name": "python3",
      "display_name": "Python 3"
    },
    "language_info": {
      "name": "python"
    }
  },
  "cells": [
    {
      "cell_type": "markdown",
      "source": [
        "***Day 5 of Day 100***"
      ],
      "metadata": {
        "id": "Ul5gsMLnrghR"
      }
    },
    {
      "cell_type": "markdown",
      "source": [
        "Write a function to find the longest common prefix string amongst an array of strings.\n",
        "\n",
        "If there is no common prefix, return an empty string \"\"."
      ],
      "metadata": {
        "id": "8dGCuKljsovN"
      }
    },
    {
      "cell_type": "code",
      "source": [
        "def longestPrefix(str):\n",
        "  if not str:\n",
        "    return \"\"\n",
        "\n",
        "  min_str = min(str, key=len)\n",
        "\n",
        "  for i in range(len(min_str)):\n",
        "    char = min_str[i]\n",
        "\n",
        "    for string in str:\n",
        "      if string[i] != char:\n",
        "        return min_str[:i]\n",
        "\n",
        "  return min_str\n",
        "\n",
        "str = ['bella', 'bell', 'bellanciaga']\n",
        "\n",
        "longestPrefix(str)\n",
        "\n",
        ""
      ],
      "metadata": {
        "colab": {
          "base_uri": "https://localhost:8080/",
          "height": 36
        },
        "id": "F_BMg3S6sqa6",
        "outputId": "3442ea6c-3090-43bd-d931-17689c295660"
      },
      "execution_count": 3,
      "outputs": [
        {
          "output_type": "execute_result",
          "data": {
            "text/plain": [
              "'bell'"
            ],
            "application/vnd.google.colaboratory.intrinsic+json": {
              "type": "string"
            }
          },
          "metadata": {},
          "execution_count": 3
        }
      ]
    },
    {
      "cell_type": "code",
      "source": [],
      "metadata": {
        "id": "s1U1aYGKvxZb"
      },
      "execution_count": null,
      "outputs": []
    }
  ]
}
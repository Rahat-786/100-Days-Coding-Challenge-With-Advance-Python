{
  "nbformat": 4,
  "nbformat_minor": 0,
  "metadata": {
    "colab": {
      "provenance": []
    },
    "kernelspec": {
      "name": "python3",
      "display_name": "Python 3"
    },
    "language_info": {
      "name": "python"
    }
  },
  "cells": [
    {
      "cell_type": "code",
      "execution_count": null,
      "metadata": {
        "id": "SW7eYIM0_-Gf"
      },
      "outputs": [],
      "source": []
    },
    {
      "cell_type": "markdown",
      "source": [
        "Given a string s containing just the characters '(', ')', '{', '}', '[' and ']', determine if the input string is valid.\n",
        "\n",
        "An input string is valid if:\n",
        "\n",
        "Open brackets must be closed by the same type of brackets.\n",
        "Open brackets must be closed in the correct order.\n",
        "Every close bracket has a corresponding open bracket of the same type. **bold text**"
      ],
      "metadata": {
        "id": "22d5xVcHAKtZ"
      }
    },
    {
      "cell_type": "code",
      "source": [
        "def is_valid(s):\n",
        "  stack = []\n",
        "  a = {')' : '(', '}' : '{', ']' : '['}\n",
        "\n",
        "  for char in s:\n",
        "    if char in a.values():\n",
        "      stack.append(char)\n",
        "    elif char in a.keys():\n",
        "      if not stack or a[char] != stack.pop():\n",
        "        return False\n",
        "    else:\n",
        "      return False\n",
        "\n",
        "  return not stack\n",
        "\n",
        "\n",
        "input_string = \"([{}])\"\n",
        "result = is_valid(input_string)\n",
        "print(result)"
      ],
      "metadata": {
        "colab": {
          "base_uri": "https://localhost:8080/"
        },
        "id": "pHdmTTi5SStS",
        "outputId": "115bd4ce-17ea-463b-c65c-78ebf9b4dd34"
      },
      "execution_count": 3,
      "outputs": [
        {
          "output_type": "stream",
          "name": "stdout",
          "text": [
            "True\n"
          ]
        }
      ]
    },
    {
      "cell_type": "code",
      "source": [],
      "metadata": {
        "id": "GYBZXch5ToQv"
      },
      "execution_count": null,
      "outputs": []
    }
  ]
}
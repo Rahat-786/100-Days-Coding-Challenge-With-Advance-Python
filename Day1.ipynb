{
 "cells": [
  {
   "cell_type": "markdown",
   "id": "95835d66",
   "metadata": {},
   "source": [
    "#Write a function in Python to check duplicate letters. It must accept a string, i.e., a sentence. The function should return True if the sentence has any word with duplicate letters, else return False. "
   ]
  },
  {
   "cell_type": "code",
   "execution_count": 3,
   "id": "9ad74892",
   "metadata": {},
   "outputs": [
    {
     "name": "stdout",
     "output_type": "stream",
     "text": [
      "True\n",
      "True\n"
     ]
    }
   ],
   "source": [
    "def duplicate_letters(sentence):\n",
    "    words = sentence.split()\n",
    "    \n",
    "    for word in words:\n",
    "        letter_set = set()\n",
    "        for letter in word:\n",
    "            if letter in letter_set:\n",
    "                return True\n",
    "            letter_set.add(letter)\n",
    "            \n",
    "a = \"Hello World\"\n",
    "b = \"I love programming\"\n",
    "\n",
    "print(duplicate_letters(a))\n",
    "print(duplicate_letters(b))"
   ]
  },
  {
   "cell_type": "code",
   "execution_count": null,
   "id": "ae5e94dd",
   "metadata": {},
   "outputs": [],
   "source": []
  }
 ],
 "metadata": {
  "kernelspec": {
   "display_name": "Python 3 (ipykernel)",
   "language": "python",
   "name": "python3"
  },
  "language_info": {
   "codemirror_mode": {
    "name": "ipython",
    "version": 3
   },
   "file_extension": ".py",
   "mimetype": "text/x-python",
   "name": "python",
   "nbconvert_exporter": "python",
   "pygments_lexer": "ipython3",
   "version": "3.9.13"
  }
 },
 "nbformat": 4,
 "nbformat_minor": 5
}

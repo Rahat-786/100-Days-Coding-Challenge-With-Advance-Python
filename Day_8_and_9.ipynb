{
  "nbformat": 4,
  "nbformat_minor": 0,
  "metadata": {
    "colab": {
      "provenance": []
    },
    "kernelspec": {
      "name": "python3",
      "display_name": "Python 3"
    },
    "language_info": {
      "name": "python"
    }
  },
  "cells": [
    {
      "cell_type": "markdown",
      "source": [
        "**Day 8**"
      ],
      "metadata": {
        "id": "c6POF1HNSjpD"
      }
    },
    {
      "cell_type": "markdown",
      "source": [
        "Given an integer, , perform the following conditional actions:\n",
        "\n",
        "If  is odd, print Weird\n",
        "If  is even and in the inclusive range of  to , print Not Weird\n",
        "If  is even and in the inclusive range of  to , print Weird\n",
        "If  is even and greater than , print Not Weird"
      ],
      "metadata": {
        "id": "Hs4Ah3QXTtXf"
      }
    },
    {
      "cell_type": "code",
      "source": [
        "def Weird(n):\n",
        "  if n % 2 == 1:\n",
        "    print('Weird')\n",
        "  elif n % 2 == 0 and 2 <= n <= 5:\n",
        "    print('Not Weird')\n",
        "  elif n % 2 == 0 and 6 <= n <= 20:\n",
        "    print(\"Weird\")\n",
        "  elif n % 2 == 0 and n > 20:\n",
        "    print(\"Not Weird\")"
      ],
      "metadata": {
        "id": "XlwIqVCKZSbr"
      },
      "execution_count": 1,
      "outputs": []
    },
    {
      "cell_type": "code",
      "source": [
        "n = int(input())\n",
        "Weird(n)"
      ],
      "metadata": {
        "colab": {
          "base_uri": "https://localhost:8080/"
        },
        "id": "PGkmHlzFZvMt",
        "outputId": "c0dbb805-b665-4397-9bf1-7e30df63f469"
      },
      "execution_count": 4,
      "outputs": [
        {
          "output_type": "stream",
          "name": "stdout",
          "text": [
            "14\n",
            "Weird\n"
          ]
        }
      ]
    },
    {
      "cell_type": "markdown",
      "source": [
        "**Day 9**"
      ],
      "metadata": {
        "id": "_ZR3ar8ObiRy"
      }
    },
    {
      "cell_type": "markdown",
      "source": [
        "Write a Person class with an instance variable, , and a constructor that takes an integer, , as a parameter. The constructor must assign  to  after confirming the argument passed as  is not negative; if a negative argument is passed as , the constructor should set  to  and print Age is not valid, setting age to 0.. In addition, you must write the following instance methods:\n",
        "\n",
        "yearPasses() should increase the  instance variable by .\n",
        "amIOld() should perform the following conditional actions:\n",
        "If , print You are young..\n",
        "If  and , print You are a teenager..\n",
        "Otherwise, print You are old.."
      ],
      "metadata": {
        "id": "V84ywbzFbn-s"
      }
    },
    {
      "cell_type": "code",
      "source": [
        "class Person:\n",
        "  def __init__(self, initialAge):\n",
        "    self.initialAge = initialAge\n",
        "\n",
        "    if self.initialAge < 0:\n",
        "      print(\"Age is not valid\")\n",
        "      self.initialAge = 0\n",
        "\n",
        "\n",
        "  def amIOld(self):\n",
        "    if self.initialAge < 13:\n",
        "      print(\"You are young\")\n",
        "    elif self.initialAge >= 13 and self.initialAge < 18:\n",
        "      print(\"You are a teenager\")\n",
        "    else:\n",
        "      print(\"You are old.\")\n",
        "\n",
        "  def yearPasses(self):\n",
        "    self.initialAge = self.initialAge+1\n",
        "\n",
        "t = int(input())\n",
        "for i in range(0, t):\n",
        "    age = int(input())\n",
        "    p = Person(age)\n",
        "    p.amIOld()\n",
        "    for j in range(0, 3):\n",
        "        p.yearPasses()\n",
        "    p.amIOld()\n",
        "    print(\"\")"
      ],
      "metadata": {
        "colab": {
          "base_uri": "https://localhost:8080/"
        },
        "id": "6oe6rFGMexem",
        "outputId": "c67a34b6-f82b-42eb-ca6a-a04ee53eac40"
      },
      "execution_count": 7,
      "outputs": [
        {
          "output_type": "stream",
          "name": "stdout",
          "text": [
            "1\n",
            "15\n",
            "You are a teenager\n",
            "You are old.\n",
            "\n"
          ]
        }
      ]
    },
    {
      "cell_type": "code",
      "source": [],
      "metadata": {
        "id": "n41h9IQxgWvT"
      },
      "execution_count": null,
      "outputs": []
    }
  ]
}